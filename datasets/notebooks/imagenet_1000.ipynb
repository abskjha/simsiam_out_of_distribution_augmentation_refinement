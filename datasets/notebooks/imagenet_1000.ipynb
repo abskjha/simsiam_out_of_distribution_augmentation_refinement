{
 "cells": [
  {
   "cell_type": "code",
   "execution_count": 26,
   "metadata": {},
   "outputs": [],
   "source": [
    "import os\n",
    "import torch\n",
    "import torchvision.datasets as datasets\n",
    "import torch.utils.data as data\n",
    "from PIL import Image\n",
    "from glob import glob\n",
    "import numpy as np\n",
    "class ImageNet1000_limit_images(data.Dataset):\n",
    "    def __init__(self,root,split='train', \n",
    "                    transform=None, nb_images=83):\n",
    "        super(ImageNet1000_limit_images, self).__init__()\n",
    "\n",
    "        self.root = os.path.join(root, '%s' %(split))\n",
    "        self.transform = transform\n",
    "        self.split = split\n",
    "#         if split=='train':\n",
    "        self.nb_images = nb_images\n",
    "        subdirs = glob(self.root+\"/*/\")\n",
    "\n",
    "        # Gather the files (sorted)\n",
    "        imgs = []\n",
    "        self.targets = []\n",
    "        for i, subdir in enumerate(subdirs):\n",
    "            subdir_path = os.path.join(subdir)\n",
    "            files = sorted(glob(os.path.join(self.root, subdir, '*.JPEG')))\n",
    "            \n",
    "            len_files = len(files)\n",
    "            limit_nb_images = min(len_files,self.nb_images)\n",
    "            \n",
    "            files = files[:limit_nb_images]\n",
    "            \n",
    "            for f in files:\n",
    "                imgs.append((f, i))\n",
    "            self.targets.append(i)\n",
    "#         print(subdir_path)\n",
    "        self.imgs = imgs\n",
    "        self.targets = np.array(self.targets)\n",
    "\n",
    "    def get_image(self, index):\n",
    "        path, target = self.imgs[index]\n",
    "        with open(path, 'rb') as f:\n",
    "            img = Image.open(f).convert('RGB')\n",
    "        img = self.resize(img) \n",
    "        return img\n",
    "\n",
    "    def __len__(self):\n",
    "        return len(self.imgs)\n",
    "\n",
    "    def __getitem__(self, index):\n",
    "        path, target = self.imgs[index]\n",
    "        with open(path, 'rb') as f:\n",
    "            img = Image.open(f).convert('RGB')\n",
    "        im_size = img.size\n",
    "\n",
    "        if self.transform is not None:\n",
    "            img = self.transform(img)\n",
    "\n",
    "        return img,target"
   ]
  },
  {
   "cell_type": "code",
   "execution_count": 32,
   "metadata": {},
   "outputs": [],
   "source": [
    "dataset = ImageNet1000_limit_images(root='/home/ajha/datasets/Imagenet_downloads/',split='train', transform=None)"
   ]
  },
  {
   "cell_type": "code",
   "execution_count": 33,
   "metadata": {},
   "outputs": [],
   "source": [
    "it_data = iter(dataset)"
   ]
  },
  {
   "cell_type": "code",
   "execution_count": 34,
   "metadata": {},
   "outputs": [
    {
     "data": {
      "text/plain": [
       "(<PIL.Image.Image image mode=RGB size=500x377 at 0x7F7D9B4477B8>, 0)"
      ]
     },
     "execution_count": 34,
     "metadata": {},
     "output_type": "execute_result"
    }
   ],
   "source": [
    "next(it_data)"
   ]
  },
  {
   "cell_type": "code",
   "execution_count": 37,
   "metadata": {},
   "outputs": [
    {
     "data": {
      "text/plain": [
       "('/home/ajha/datasets/Imagenet_downloads/train/n04254777/n04254777_10024.JPEG',\n",
       " 1)"
      ]
     },
     "execution_count": 37,
     "metadata": {},
     "output_type": "execute_result"
    }
   ],
   "source": [
    "dataset.imgs[83]"
   ]
  },
  {
   "cell_type": "code",
   "execution_count": 8,
   "metadata": {},
   "outputs": [
    {
     "data": {
      "text/plain": [
       "array([ 0,  1,  2,  3,  4,  5,  6,  7,  8,  9, 10, 11, 12, 13, 14, 15, 16,\n",
       "       17, 18, 19, 20, 21, 22, 23, 24, 25, 26, 27, 28, 29, 30, 31, 32, 33,\n",
       "       34, 35, 36, 37, 38, 39, 40, 41, 42, 43, 44, 45, 46, 47, 48, 49, 50,\n",
       "       51, 52, 53, 54, 55, 56, 57, 58, 59, 60, 61, 62, 63, 64, 65, 66, 67,\n",
       "       68, 69, 70, 71, 72, 73, 74, 75, 76, 77, 78, 79, 80, 81, 82, 83, 84,\n",
       "       85, 86, 87, 88, 89, 90, 91, 92, 93, 94, 95, 96, 97, 98, 99])"
      ]
     },
     "execution_count": 8,
     "metadata": {},
     "output_type": "execute_result"
    }
   ],
   "source": [
    "dataset.targets"
   ]
  },
  {
   "cell_type": "code",
   "execution_count": 1,
   "metadata": {},
   "outputs": [],
   "source": [
    "import glob"
   ]
  },
  {
   "cell_type": "code",
   "execution_count": 5,
   "metadata": {},
   "outputs": [],
   "source": [
    "aa = glob.glob('/home/ajha/datasets/Imagenet_downloads/train/*/')"
   ]
  },
  {
   "cell_type": "code",
   "execution_count": 6,
   "metadata": {},
   "outputs": [
    {
     "data": {
      "text/plain": [
       "1000"
      ]
     },
     "execution_count": 6,
     "metadata": {},
     "output_type": "execute_result"
    }
   ],
   "source": [
    "len(aa)"
   ]
  },
  {
   "cell_type": "code",
   "execution_count": 4,
   "metadata": {},
   "outputs": [
    {
     "data": {
      "text/plain": [
       "['/home/ajha/datasets/Imagenet_downloads/train/']"
      ]
     },
     "execution_count": 4,
     "metadata": {},
     "output_type": "execute_result"
    }
   ],
   "source": [
    "aa"
   ]
  },
  {
   "cell_type": "code",
   "execution_count": 7,
   "metadata": {},
   "outputs": [
    {
     "data": {
      "text/plain": [
       "['/home/ajha/datasets/Imagenet_downloads/train/n03873416/',\n",
       " '/home/ajha/datasets/Imagenet_downloads/train/n04254777/',\n",
       " '/home/ajha/datasets/Imagenet_downloads/train/n03476991/',\n",
       " '/home/ajha/datasets/Imagenet_downloads/train/n07714571/',\n",
       " '/home/ajha/datasets/Imagenet_downloads/train/n01695060/',\n",
       " '/home/ajha/datasets/Imagenet_downloads/train/n02497673/',\n",
       " '/home/ajha/datasets/Imagenet_downloads/train/n02346627/',\n",
       " '/home/ajha/datasets/Imagenet_downloads/train/n03840681/',\n",
       " '/home/ajha/datasets/Imagenet_downloads/train/n07695742/',\n",
       " '/home/ajha/datasets/Imagenet_downloads/train/n01440764/']"
      ]
     },
     "execution_count": 7,
     "metadata": {},
     "output_type": "execute_result"
    }
   ],
   "source": [
    "aa[:10]"
   ]
  },
  {
   "cell_type": "code",
   "execution_count": null,
   "metadata": {},
   "outputs": [],
   "source": []
  }
 ],
 "metadata": {
  "kernelspec": {
   "display_name": "Python 3",
   "language": "python",
   "name": "python3"
  },
  "language_info": {
   "codemirror_mode": {
    "name": "ipython",
    "version": 3
   },
   "file_extension": ".py",
   "mimetype": "text/x-python",
   "name": "python",
   "nbconvert_exporter": "python",
   "pygments_lexer": "ipython3",
   "version": "3.6.10"
  }
 },
 "nbformat": 4,
 "nbformat_minor": 4
}
